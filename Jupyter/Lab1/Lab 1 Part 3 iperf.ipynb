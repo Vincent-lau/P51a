{
 "cells": [
  {
   "cell_type": "markdown",
   "metadata": {},
   "source": [
    "This is the third part of the first lab.\n",
    "\n",
    "The setup remains the same as in the previous parts, and the following is included only in case this part is not conducted immendately after the second part.  \n",
    "\n",
    "\n",
    "###### Setup:  \n",
    "-- `ssh-add` (Machine A) #if it fails, run first: eval `ssh-agent -s`  \n",
    "-- `mkdir /home/l51/<crsid>` (Machine A, replace <crsid> with your crsid) \n",
    "  \n",
    "-- `cd /home/l51/<crsid>` Machine A)  \n",
    "-- `git clone http://github.com/cucl-srg/P51a` (Machine A)  \n",
    "-- `/home/l51/P51a/setup/mkdir1.sh <crsid>`. (Machine A)   \n"
   ]
  },
  {
   "cell_type": "code",
   "execution_count": 2,
   "metadata": {},
   "outputs": [],
   "source": [
    "crsid='sl955' #your crsid\n",
    "%run /home/l51/$crsid/P51a/Jupyter/useful/useful.py\n",
    "%run /home/l51/$crsid/P51a/Jupyter/useful/useful1.py\n",
    "%matplotlib inline\n",
    "machA_ip = '128.232.82.184'\n",
    "machB_ip = '128.232.82.185'  #  XXX REPLACE THIS WITH THE IP of the host 128.232.XXX.YYY"
   ]
  },
  {
   "cell_type": "markdown",
   "metadata": {},
   "source": [
    "# 3. iperf"
   ]
  },
  {
   "cell_type": "markdown",
   "metadata": {},
   "source": [
    "iperf is used to test the maximum network throughput that a computer can handle. The DuT acts as an iperf server and listens for connections. A second computer connects to the server and sends datagrams.  \n",
    "  \n",
    "In bidirectional testing, both computers act as both servers (receiving) and clients (sending).  \n",
    "  \n",
    "###### Usage of iperf: \n",
    "    \n",
    "Server:  \n",
    "* TCP       \n",
    "`iperf -s -B <server address>`  \n",
    "* UDP      \n",
    "`iperf -s -B <server address>` -u   \n",
    "   \n",
    "Client:  \n",
    "* TCP     \n",
    "`iperf -c <server address> [Opt: -i <interval>] [Opt: -t <time>] [Opt: -f <format>] [Opt: -d] [Opt: -w <TCP window size>]`  \n",
    "interval = how often to report bandwidth in seconds. Default is no periodic reports.  \n",
    "time = length of test in seconds. Default value is 10.    \n",
    "format = 'k' for Kbits/sec, 'm' for Mbits/sec, 'g' for Gbits/sec. Default is adaptive.    \n",
    "-d = bidirectional  \n",
    "TCP window size -> eg. `-w 20KB`\n",
    "    \n",
    "      \n",
    "* UDP    \n",
    "`iperf -c <server address> -u [Opt: -i <interval>] [Opt: -t <time>] [Opt: -f <format>] [Opt: -d] [Opt: -b <bandwidth>]`   \n",
    "bandwidth -> eg. `-b 20m` (Mbits/sec).  \n",
    "\n",
    "NB. By default, iperf restricts bandwidth for UDP clients to a maximum of 1 Mbit/sec. There is no restriction for TCP clients.   "
   ]
  },
  {
   "cell_type": "markdown",
   "metadata": {},
   "source": [
    "### Experiment 9"
   ]
  },
  {
   "cell_type": "markdown",
   "metadata": {},
   "source": [
    "Run one way iperf, from A to B, 10 sec long. Plot the bandwidth for each time interval (1 sec)."
   ]
  },
  {
   "cell_type": "markdown",
   "metadata": {},
   "source": [
    "<font color='red'>TODO:</font> Fill in `server_cmd`, the command to start the server. Fill in `client_cmd`, the command to connect to the server, 10 seconds long, interval 1 second, format Gbits/sec."
   ]
  },
  {
   "cell_type": "code",
   "execution_count": 9,
   "metadata": {},
   "outputs": [],
   "source": [
    "server_cmd = f'sudo iperf -s -B {machB_ip}'\n",
    "ssh = ssh_connect(machB_ip)\n",
    "start_new_thread(ssh_cmd,(server_cmd,ssh))\n",
    "\n",
    "for i in range(5):\n",
    "    sleep(1)\n",
    "    client_cmd = f'sudo iperf -c {machB_ip} -i 1 -t 10 -f g'\n",
    "    local_cmd(client_cmd+'| grep -e \"bits/sec\" -m 10 > /home/l51/'+crsid+'/P51aLab1/9/exp9_' + str(i))\n",
    "\n",
    "ssh_cmd('sudo pkill iperf', ssh)\n",
    "ssh.close()"
   ]
  },
  {
   "cell_type": "code",
   "execution_count": 10,
   "metadata": {},
   "outputs": [
    {
     "data": {
      "image/png": "[encoded data removed]",
      "text/plain": [
       "<Figure size 432x288 with 1 Axes>"
      ]
     },
     "metadata": {
      "needs_background": "light"
     },
     "output_type": "display_data"
    }
   ],
   "source": [
    "bws = data_iperf('9/exp9',crsid)\n",
    "ys, yerr = graph_error(bws)\n",
    "plt.errorbar(np.arange(0.5,10.0,1.0),ys,yerr=yerr,linestyle=\"none\")\n",
    "ys.append(ys[-1])\n",
    "plt.step(np.arange(0,11,1), ys ,where=\"post\")\n",
    "\n",
    "plt.xlabel(\"Time (s)\")\n",
    "plt.ylabel(\"Bandwidth (Gbit/s)\")\n",
    "plt.show()"
   ]
  },
  {
   "cell_type": "markdown",
   "metadata": {},
   "source": [
    "### Experiment 10"
   ]
  },
  {
   "cell_type": "markdown",
   "metadata": {},
   "source": [
    "Run 2 way iperf, 10 sec long. Plot the bandwidth for each time interval (1 sec)."
   ]
  },
  {
   "cell_type": "markdown",
   "metadata": {},
   "source": [
    "<font color='red'>TODO:</font> Fill in `server_cmd`, the command to start the server. Fill in `client_cmd`, the command to connect to the server, bidirectional, 10 seconds long, interval 1 second, format Gbits/sec."
   ]
  },
  {
   "cell_type": "code",
   "execution_count": 8,
   "metadata": {},
   "outputs": [],
   "source": [
    "server_cmd = f'iperf -s -B {machB_ip}'\n",
    "ssh = ssh_connect(machB_ip)\n",
    "start_new_thread(ssh_cmd,(server_cmd,ssh))\n",
    "\n",
    "for i in range(5):\n",
    "    sleep(1)\n",
    "    client_cmd = f'iperf -c {machB_ip} -i 1 -t 10 -f g -d'\n",
    "    local_cmd(client_cmd+' | grep -e \"bits/sec\" -e \"with\" -m 22 > /home/l51/'+crsid+'/P51aLab1/10/exp10_' + str(i))\n",
    "\n",
    "ssh_cmd('sudo pkill iperf3', ssh)\n",
    "ssh.close()"
   ]
  },
  {
   "cell_type": "code",
   "execution_count": null,
   "metadata": {},
   "outputs": [],
   "source": [
    "def data10(crsid):\n",
    "    sbw = [[] for i in range(10)]\n",
    "    cbw = [[] for i in range(10)]\n",
    "    for j in range(5):\n",
    "        with open('/home/l51/'+crsid+'/P51aLab1/10/exp10_' + str(j)) as f:\n",
    "            next(f)\n",
    "            next(f)\n",
    "            for i in range(10):\n",
    "                sb = next(f)\n",
    "                sbww = findall(r'GBytes(.*?)Gbits/sec', sb)[0]\n",
    "                sbw[i].append(float(sbww))\n",
    "                cb = next(f)\n",
    "                cbww = findall(r'GBytes(.*?)Gbits/sec', cb)[0]\n",
    "                cbw[i].append(float(cbww))\n",
    "    return sbw, cbw"
   ]
  },
  {
   "cell_type": "code",
   "execution_count": 42,
   "metadata": {
    "scrolled": true
   },
   "outputs": [
    {
     "name": "stdout",
     "output_type": "stream",
     "text": [
      "[  7][RX-C]   0.00-1.00   sec  89.1 MBytes  0.75 Gbits/sec                  \n",
      "\n",
      "0 [  5][TX-C]   1.00-2.00   sec   104 MBytes  0.87 Gbits/sec    0   1.69 MBytes       \n",
      "\n",
      "1 [  5][TX-C]   2.00-3.00   sec   104 MBytes  0.87 Gbits/sec    0   1.88 MBytes       \n",
      "\n",
      "2 [  5][TX-C]   3.00-4.00   sec  87.5 MBytes  0.73 Gbits/sec    0   2.01 MBytes       \n",
      "\n",
      "3 [  5][TX-C]   4.00-5.00   sec  88.8 MBytes  0.74 Gbits/sec    0   2.17 MBytes       \n",
      "\n",
      "4 [  5][TX-C]   5.00-6.00   sec  97.5 MBytes  0.82 Gbits/sec    0   2.34 MBytes       \n",
      "\n",
      "5 [  5][TX-C]   6.00-7.00   sec   104 MBytes  0.87 Gbits/sec    0   2.34 MBytes       \n",
      "\n",
      "6 [  5][TX-C]   7.00-8.00   sec  97.5 MBytes  0.82 Gbits/sec    0   2.34 MBytes       \n",
      "\n",
      "7 [  5][TX-C]   8.00-9.00   sec   102 MBytes  0.86 Gbits/sec    0   2.46 MBytes       \n",
      "\n",
      "8 [  5][TX-C]   9.00-10.00  sec   104 MBytes  0.87 Gbits/sec    0   2.46 MBytes       \n",
      "\n",
      "9 [  5][TX-C]   0.00-10.00  sec   988 MBytes  0.83 Gbits/sec    0             sender\n",
      "\n",
      "[  7][RX-C]   0.00-1.00   sec   100 MBytes  0.84 Gbits/sec                  \n",
      "\n",
      "0 [  5][TX-C]   1.00-2.00   sec  98.8 MBytes  0.83 Gbits/sec    0    718 KBytes       \n",
      "\n",
      "1 [  5][TX-C]   2.00-3.00   sec  98.8 MBytes  0.83 Gbits/sec    0    752 KBytes       \n",
      "\n",
      "2 [  5][TX-C]   3.00-4.00   sec  98.8 MBytes  0.83 Gbits/sec    0    752 KBytes       \n",
      "\n",
      "3 [  5][TX-C]   4.00-5.00   sec  96.2 MBytes  0.81 Gbits/sec    0    792 KBytes       \n",
      "\n",
      "4 [  5][TX-C]   5.00-6.00   sec  97.5 MBytes  0.82 Gbits/sec    0    792 KBytes       \n",
      "\n",
      "5 [  5][TX-C]   6.00-7.00   sec   100 MBytes  0.84 Gbits/sec    0    792 KBytes       \n",
      "\n",
      "6 [  5][TX-C]   7.00-8.00   sec   100 MBytes  0.84 Gbits/sec    0    871 KBytes       \n",
      "\n",
      "7 [  5][TX-C]   8.00-9.00   sec  96.2 MBytes  0.81 Gbits/sec    0    915 KBytes       \n",
      "\n",
      "8 [  5][TX-C]   9.00-10.00  sec  97.5 MBytes  0.82 Gbits/sec    0    915 KBytes       \n",
      "\n",
      "9 [  5][TX-C]   0.00-10.00  sec   985 MBytes  0.83 Gbits/sec    0             sender\n",
      "\n",
      "[  7][RX-C]   0.00-1.00   sec   108 MBytes  0.90 Gbits/sec                  \n",
      "\n",
      "0 [  5][TX-C]   1.00-2.00   sec  81.2 MBytes  0.68 Gbits/sec    0   3.01 MBytes       \n",
      "\n",
      "1 [  5][TX-C]   2.00-3.00   sec  85.0 MBytes  0.71 Gbits/sec    0   3.01 MBytes       \n",
      "\n",
      "2 [  5][TX-C]   3.00-4.00   sec  96.2 MBytes  0.81 Gbits/sec    0   3.01 MBytes       \n",
      "\n",
      "3 [  5][TX-C]   4.00-5.00   sec  63.8 MBytes  0.53 Gbits/sec    0   3.01 MBytes       \n",
      "\n",
      "4 [  5][TX-C]   5.00-6.02   sec  53.8 MBytes  0.44 Gbits/sec    0   3.01 MBytes       \n",
      "\n",
      "5 [  5][TX-C]   6.02-7.00   sec  96.2 MBytes  0.82 Gbits/sec    0   3.01 MBytes       \n",
      "\n",
      "6 [  5][TX-C]   7.00-8.00   sec  78.8 MBytes  0.66 Gbits/sec    0   3.01 MBytes       \n",
      "\n",
      "7 [  5][TX-C]   8.00-9.00   sec  72.5 MBytes  0.61 Gbits/sec    0   3.01 MBytes       \n",
      "\n",
      "8 [  5][TX-C]   9.00-10.00  sec  97.5 MBytes  0.82 Gbits/sec    0   3.01 MBytes       \n",
      "\n",
      "9 [  5][TX-C]   0.00-10.00  sec   795 MBytes  0.67 Gbits/sec    0             sender\n",
      "\n",
      "[  7][RX-C]   0.00-1.00   sec  88.6 MBytes  0.74 Gbits/sec                  \n",
      "\n",
      "0 [  5][TX-C]   1.00-2.00   sec   108 MBytes  0.91 Gbits/sec    0    683 KBytes       \n",
      "\n",
      "1 [  5][TX-C]   2.00-3.00   sec   108 MBytes  0.90 Gbits/sec    3    543 KBytes       \n",
      "\n",
      "2 [  5][TX-C]   3.00-4.00   sec   105 MBytes  0.88 Gbits/sec    0    587 KBytes       \n",
      "\n",
      "3 [  5][TX-C]   4.00-5.00   sec   106 MBytes  0.89 Gbits/sec    2    472 KBytes       \n",
      "\n",
      "4 [  5][TX-C]   5.00-6.00   sec   108 MBytes  0.90 Gbits/sec    0    502 KBytes       \n",
      "\n",
      "5 [  5][TX-C]   6.00-7.00   sec   105 MBytes  0.88 Gbits/sec    0    526 KBytes       \n",
      "\n",
      "6 [  5][TX-C]   7.00-8.00   sec   109 MBytes  0.91 Gbits/sec    0    540 KBytes       \n",
      "\n",
      "7 [  5][TX-C]   8.00-9.00   sec   105 MBytes  0.88 Gbits/sec    6    443 KBytes       \n",
      "\n",
      "8 [  5][TX-C]   9.00-10.00  sec   108 MBytes  0.90 Gbits/sec    0    492 KBytes       \n",
      "\n",
      "9 [  5][TX-C]   0.00-10.00  sec  1.05 GBytes  0.90 Gbits/sec   11             sender\n",
      "\n"
     ]
    },
    {
     "ename": "IndexError",
     "evalue": "list index out of range",
     "output_type": "error",
     "traceback": [
      "\u001b[0;31m---------------------------------------------------------------------------\u001b[0m",
      "\u001b[0;31mIndexError\u001b[0m                                Traceback (most recent call last)",
      "\u001b[0;32m<ipython-input-42-d51818124595>\u001b[0m in \u001b[0;36m<module>\u001b[0;34m\u001b[0m\n\u001b[0;32m----> 1\u001b[0;31m \u001b[0msbw\u001b[0m\u001b[0;34m,\u001b[0m\u001b[0mcbw\u001b[0m \u001b[0;34m=\u001b[0m \u001b[0mdata10\u001b[0m\u001b[0;34m(\u001b[0m\u001b[0mcrsid\u001b[0m\u001b[0;34m)\u001b[0m\u001b[0;34m\u001b[0m\u001b[0;34m\u001b[0m\u001b[0m\n\u001b[0m\u001b[1;32m      2\u001b[0m \u001b[0mys\u001b[0m\u001b[0;34m,\u001b[0m\u001b[0myerr\u001b[0m \u001b[0;34m=\u001b[0m \u001b[0mgraph_error\u001b[0m\u001b[0;34m(\u001b[0m\u001b[0msbw\u001b[0m\u001b[0;34m)\u001b[0m\u001b[0;34m\u001b[0m\u001b[0;34m\u001b[0m\u001b[0m\n\u001b[1;32m      3\u001b[0m \u001b[0mplt\u001b[0m\u001b[0;34m.\u001b[0m\u001b[0merrorbar\u001b[0m\u001b[0;34m(\u001b[0m\u001b[0mnp\u001b[0m\u001b[0;34m.\u001b[0m\u001b[0marange\u001b[0m\u001b[0;34m(\u001b[0m\u001b[0;36m0.4\u001b[0m\u001b[0;34m,\u001b[0m\u001b[0;36m10.0\u001b[0m\u001b[0;34m,\u001b[0m\u001b[0;36m1.0\u001b[0m\u001b[0;34m)\u001b[0m\u001b[0;34m,\u001b[0m\u001b[0mys\u001b[0m\u001b[0;34m,\u001b[0m\u001b[0myerr\u001b[0m\u001b[0;34m=\u001b[0m\u001b[0myerr\u001b[0m\u001b[0;34m,\u001b[0m\u001b[0mlinestyle\u001b[0m\u001b[0;34m=\u001b[0m\u001b[0;34m\"none\"\u001b[0m\u001b[0;34m,\u001b[0m\u001b[0mcolor\u001b[0m\u001b[0;34m=\u001b[0m\u001b[0;34m\"red\"\u001b[0m\u001b[0;34m)\u001b[0m\u001b[0;34m\u001b[0m\u001b[0;34m\u001b[0m\u001b[0m\n\u001b[1;32m      4\u001b[0m \u001b[0mys\u001b[0m\u001b[0;34m.\u001b[0m\u001b[0mappend\u001b[0m\u001b[0;34m(\u001b[0m\u001b[0mys\u001b[0m\u001b[0;34m[\u001b[0m\u001b[0;34m-\u001b[0m\u001b[0;36m1\u001b[0m\u001b[0;34m]\u001b[0m\u001b[0;34m)\u001b[0m\u001b[0;34m\u001b[0m\u001b[0;34m\u001b[0m\u001b[0m\n\u001b[1;32m      5\u001b[0m \u001b[0mplt\u001b[0m\u001b[0;34m.\u001b[0m\u001b[0mstep\u001b[0m\u001b[0;34m(\u001b[0m\u001b[0mnp\u001b[0m\u001b[0;34m.\u001b[0m\u001b[0marange\u001b[0m\u001b[0;34m(\u001b[0m\u001b[0;36m0\u001b[0m\u001b[0;34m,\u001b[0m\u001b[0;36m11\u001b[0m\u001b[0;34m,\u001b[0m\u001b[0;36m1\u001b[0m\u001b[0;34m)\u001b[0m\u001b[0;34m,\u001b[0m \u001b[0mys\u001b[0m \u001b[0;34m,\u001b[0m\u001b[0mwhere\u001b[0m\u001b[0;34m=\u001b[0m\u001b[0;34m\"post\"\u001b[0m\u001b[0;34m,\u001b[0m\u001b[0mcolor\u001b[0m\u001b[0;34m=\u001b[0m\u001b[0;34m\"red\"\u001b[0m\u001b[0;34m,\u001b[0m\u001b[0mlabel\u001b[0m\u001b[0;34m=\u001b[0m\u001b[0;34m\"server\"\u001b[0m\u001b[0;34m)\u001b[0m\u001b[0;34m\u001b[0m\u001b[0;34m\u001b[0m\u001b[0m\n",
      "\u001b[0;32m<ipython-input-41-dd37ebb49007>\u001b[0m in \u001b[0;36mdata10\u001b[0;34m(crsid)\u001b[0m\n\u001b[1;32m     10\u001b[0m                 \u001b[0msb\u001b[0m \u001b[0;34m=\u001b[0m \u001b[0mnext\u001b[0m\u001b[0;34m(\u001b[0m\u001b[0mf\u001b[0m\u001b[0;34m)\u001b[0m\u001b[0;34m\u001b[0m\u001b[0;34m\u001b[0m\u001b[0m\n\u001b[1;32m     11\u001b[0m                 \u001b[0mprint\u001b[0m\u001b[0;34m(\u001b[0m\u001b[0mi\u001b[0m\u001b[0;34m,\u001b[0m\u001b[0msb\u001b[0m\u001b[0;34m)\u001b[0m\u001b[0;34m\u001b[0m\u001b[0;34m\u001b[0m\u001b[0m\n\u001b[0;32m---> 12\u001b[0;31m                 \u001b[0msbww\u001b[0m \u001b[0;34m=\u001b[0m \u001b[0mfindall\u001b[0m\u001b[0;34m(\u001b[0m\u001b[0;34mr'MBytes(.*?)Gbits/sec'\u001b[0m\u001b[0;34m,\u001b[0m \u001b[0msb\u001b[0m\u001b[0;34m)\u001b[0m\u001b[0;34m[\u001b[0m\u001b[0;36m0\u001b[0m\u001b[0;34m]\u001b[0m\u001b[0;34m\u001b[0m\u001b[0;34m\u001b[0m\u001b[0m\n\u001b[0m\u001b[1;32m     13\u001b[0m                 \u001b[0msbw\u001b[0m\u001b[0;34m[\u001b[0m\u001b[0mi\u001b[0m\u001b[0;34m]\u001b[0m\u001b[0;34m.\u001b[0m\u001b[0mappend\u001b[0m\u001b[0;34m(\u001b[0m\u001b[0mfloat\u001b[0m\u001b[0;34m(\u001b[0m\u001b[0msbww\u001b[0m\u001b[0;34m)\u001b[0m\u001b[0;34m)\u001b[0m\u001b[0;34m\u001b[0m\u001b[0;34m\u001b[0m\u001b[0m\n\u001b[1;32m     14\u001b[0m                 \u001b[0mcb\u001b[0m \u001b[0;34m=\u001b[0m \u001b[0mnext\u001b[0m\u001b[0;34m(\u001b[0m\u001b[0mf\u001b[0m\u001b[0;34m)\u001b[0m\u001b[0;34m\u001b[0m\u001b[0;34m\u001b[0m\u001b[0m\n",
      "\u001b[0;31mIndexError\u001b[0m: list index out of range"
     ]
    }
   ],
   "source": [
    "sbw,cbw = data10(crsid)\n",
    "ys,yerr = graph_error(sbw)\n",
    "plt.errorbar(np.arange(0.4,10.0,1.0),ys,yerr=yerr,linestyle=\"none\",color=\"red\")\n",
    "ys.append(ys[-1])\n",
    "plt.step(np.arange(0,11,1), ys ,where=\"post\",color=\"red\",label=\"server\")\n",
    "\n",
    "ys2,yerr2 = graph_error(cbw)\n",
    "plt.errorbar(np.arange(0.6,10.0,1.0),ys2,yerr=yerr2,linestyle=\"none\",color=\"blue\")\n",
    "ys2.append(ys2[-1])\n",
    "plt.step(np.arange(0,11,1), ys2 ,where=\"post\",color=\"blue\",label=\"client\")\n",
    "    \n",
    "plt.xlabel(\"Time (s)\")\n",
    "plt.ylabel(\"Bandwidth (Mbit/s)\")\n",
    "plt.legend(loc='center left', bbox_to_anchor=(1, 0.5))\n",
    "plt.show()"
   ]
  },
  {
   "cell_type": "markdown",
   "metadata": {},
   "source": [
    "### Experiment 11"
   ]
  },
  {
   "cell_type": "markdown",
   "metadata": {},
   "source": [
    "Run one way iperf, from A to B, 3 sec long, with varying window size. Plot the bandwidth for each window size."
   ]
  },
  {
   "cell_type": "markdown",
   "metadata": {},
   "source": [
    "<font color='red'>TODO:</font> Fill in `server_cmd`, the command to start the server. Fill in `client_cmd`, the command to connect to the server, 3 seconds long, format Kbits/sec, for each window size in KB."
   ]
  },
  {
   "cell_type": "code",
   "execution_count": 4,
   "metadata": {},
   "outputs": [],
   "source": [
    "server_cmd = f'iperf -s -B {machB_ip}'\n",
    "ssh = ssh_connect(machB_ip)\n",
    "start_new_thread(ssh_cmd,(server_cmd,ssh))\n",
    "\n",
    "windows = [1,50,100,150,200,250]\n",
    "for w in windows:\n",
    "    for i in range(5):\n",
    "        sleep(1)\n",
    "        client_cmd = f'iperf -c {machB_ip} -i 1 -t 3 -f k -w {w}KB'\n",
    "        local_cmd(client_cmd+' | grep -e \"window\" -e \"bits/sec\" > /home/l51/'+crsid+'/P51aLab1/11/exp11_'+str(w)+'_'+str(i))\n",
    "    \n",
    "ssh_cmd('sudo pkill iperf', ssh)\n",
    "ssh.close()"
   ]
  },
  {
   "cell_type": "code",
   "execution_count": 5,
   "metadata": {},
   "outputs": [
    {
     "data": {
      "image/png": "[encoded data removed]",
      "text/plain": [
       "<Figure size 432x288 with 1 Axes>"
      ]
     },
     "metadata": {
      "needs_background": "light"
     },
     "output_type": "display_data"
    }
   ],
   "source": [
    "winds, bws = data11(windows,crsid)\n",
    "ys,yerr =graph_error(bws)\n",
    "plt.errorbar(winds,ys,yerr=yerr)\n",
    "plt.ylabel(\"Bandwidth (Gbits/sec)\")\n",
    "plt.xlabel(\"Window size (KB)\")\n",
    "plt.show()"
   ]
  },
  {
   "cell_type": "markdown",
   "metadata": {},
   "source": [
    "### Experiment 12"
   ]
  },
  {
   "cell_type": "markdown",
   "metadata": {},
   "source": [
    "Run one way iperf using UDP, from A to B, 3 sec long, with varying bandwidth. Plot the percentage of packets dropped for each bandwidth."
   ]
  },
  {
   "cell_type": "markdown",
   "metadata": {},
   "source": [
    "<font color='red'>TODO:</font> Fill in `server_cmd`, the command to start the UDP server. Fill in `client_cmd`, the command to connect to the UDP server, 3 seconds long, format Mbits/sec, for each bandwidth in Mbits/sec."
   ]
  },
  {
   "cell_type": "code",
   "execution_count": 3,
   "metadata": {},
   "outputs": [],
   "source": [
    "server_cmd = f'iperf -s -B {machB_ip} -u'\n",
    "ssh = ssh_connect(machB_ip)\n",
    "start_new_thread(ssh_cmd,(server_cmd,ssh))\n",
    "\n",
    "bands = [10,100,1000,5000,9000]\n",
    "for b in bands:\n",
    "    for i in range(5):\n",
    "        sleep(1)\n",
    "        client_cmd = f'iperf -c {machB_ip} -i 1 -t 3 -f m -b {b}m -u'\n",
    "        local_cmd(client_cmd+' | grep -e \"%\"> /home/l51/'+crsid+'/P51aLab1/12/exp12_'+str(b)+ '_'+ str(i))\n",
    "    \n",
    "ssh_cmd('sudo pkill iperf', ssh)\n",
    "ssh.close()"
   ]
  },
  {
   "cell_type": "markdown",
   "metadata": {},
   "source": [
    "<font color='red'>TODO:</font> Plot a graph of percentage of packets dropped against bandwidth, with error bars."
   ]
  },
  {
   "cell_type": "code",
   "execution_count": 4,
   "metadata": {
    "scrolled": false
   },
   "outputs": [
    {
     "data": {
      "image/png": "[encoded data removed]",
      "text/plain": [
       "<Figure size 432x288 with 1 Axes>"
      ]
     },
     "metadata": {
      "needs_background": "light"
     },
     "output_type": "display_data"
    }
   ],
   "source": [
    "bans,pcs = data_band('12/exp12',crsid,bands)\n",
    "ys, yerr = graph_error(pcs)\n",
    "plt.errorbar(bands,ys,yerr=yerr)\n",
    "plt.ylabel(\"Drop percentage (%)\")\n",
    "plt.xlabel(\"Bandwidth (Mbits/sec)\")\n",
    "plt.show()"
   ]
  },
  {
   "cell_type": "markdown",
   "metadata": {},
   "source": [
    "### Experiment 13"
   ]
  },
  {
   "cell_type": "markdown",
   "metadata": {},
   "source": [
    "###### Usage of iperf3 :   \n",
    "  \n",
    "Server:  \n",
    "* TCP/UDP      \n",
    "`iperf3 -s -B <server address>`     \n",
    "     \n",
    "Client:  \n",
    "* TCP     \n",
    "`iperf3 -c <server address> [Opt: -i <interval>] [Opt: -t <time>] [Opt: -f <format>] [Opt: -w <window size>]`     \n",
    "* UDP     \n",
    "`iperf3 -c <server address> [Opt: -i <interval>] [Opt: -t <time>] [Opt: -f <format>] [Opt: -b <bandwidth>]`"
   ]
  },
  {
   "cell_type": "markdown",
   "metadata": {},
   "source": [
    "### 13a"
   ]
  },
  {
   "cell_type": "markdown",
   "metadata": {},
   "source": [
    "Run one way iperf, from A to B, 10 sec long. Plot the bandwidth for each time interval (1 sec)."
   ]
  },
  {
   "cell_type": "markdown",
   "metadata": {},
   "source": [
    "<font color='red'>TODO:</font> Fill in `server_cmd`, the command to start the server. Fill in `client_cmd`, the command to connect to the server, 10 seconds long, format Gbits/sec, interval 1 second."
   ]
  },
  {
   "cell_type": "code",
   "execution_count": 2,
   "metadata": {},
   "outputs": [
    {
     "ename": "KeyboardInterrupt",
     "evalue": "",
     "output_type": "error",
     "traceback": [
      "\u001b[0;31m---------------------------------------------------------------------------\u001b[0m",
      "\u001b[0;31mKeyboardInterrupt\u001b[0m                         Traceback (most recent call last)",
      "\u001b[0;32m<ipython-input-2-2815435cba98>\u001b[0m in \u001b[0;36m<module>\u001b[0;34m\u001b[0m\n\u001b[1;32m      4\u001b[0m \u001b[0;34m\u001b[0m\u001b[0m\n\u001b[1;32m      5\u001b[0m \u001b[0;32mfor\u001b[0m \u001b[0mi\u001b[0m \u001b[0;32min\u001b[0m \u001b[0mrange\u001b[0m\u001b[0;34m(\u001b[0m\u001b[0;36m5\u001b[0m\u001b[0;34m)\u001b[0m\u001b[0;34m:\u001b[0m\u001b[0;34m\u001b[0m\u001b[0;34m\u001b[0m\u001b[0m\n\u001b[0;32m----> 6\u001b[0;31m     \u001b[0msleep\u001b[0m\u001b[0;34m(\u001b[0m\u001b[0;36m1\u001b[0m\u001b[0;34m)\u001b[0m\u001b[0;34m\u001b[0m\u001b[0;34m\u001b[0m\u001b[0m\n\u001b[0m\u001b[1;32m      7\u001b[0m     \u001b[0mclient_cmd\u001b[0m \u001b[0;34m=\u001b[0m \u001b[0;34mf'iperf3 -c {machB_ip} -i 1 -t 10 -f g'\u001b[0m\u001b[0;34m\u001b[0m\u001b[0;34m\u001b[0m\u001b[0m\n\u001b[1;32m      8\u001b[0m     \u001b[0mlocal_cmd\u001b[0m\u001b[0;34m(\u001b[0m\u001b[0mclient_cmd\u001b[0m\u001b[0;34m+\u001b[0m\u001b[0;34m' | grep -e \"bits/sec\" -m 10 > /home/l51/'\u001b[0m\u001b[0;34m+\u001b[0m\u001b[0mcrsid\u001b[0m\u001b[0;34m+\u001b[0m\u001b[0;34m'/P51aLab1/13/exp13a_'\u001b[0m \u001b[0;34m+\u001b[0m \u001b[0mstr\u001b[0m\u001b[0;34m(\u001b[0m\u001b[0mi\u001b[0m\u001b[0;34m)\u001b[0m\u001b[0;34m)\u001b[0m\u001b[0;34m\u001b[0m\u001b[0;34m\u001b[0m\u001b[0m\n",
      "\u001b[0;31mKeyboardInterrupt\u001b[0m: "
     ]
    }
   ],
   "source": [
    "server_cmd = f'iperf3 -s -B {machB_ip}'\n",
    "ssh = ssh_connect(machB_ip)\n",
    "start_new_thread(ssh_cmd,(server_cmd,ssh))\n",
    "\n",
    "for i in range(5):\n",
    "    sleep(1)\n",
    "    client_cmd = f'iperf3 -c {machB_ip} -i 1 -t 10 -f g'\n",
    "    local_cmd(client_cmd+' | grep -e \"bits/sec\" -m 10 > /home/l51/'+crsid+'/P51aLab1/13/exp13a_' + str(i))\n",
    "\n",
    "ssh_cmd('sudo pkill iperf3', ssh)\n",
    "ssh.close()"
   ]
  },
  {
   "cell_type": "markdown",
   "metadata": {},
   "source": [
    "<font color='red'>TODO:</font> Plot a step graph of bandwidth against time, with error bars."
   ]
  },
  {
   "cell_type": "code",
   "execution_count": 20,
   "metadata": {
    "scrolled": false
   },
   "outputs": [
    {
     "data": {
      "image/png": "[encoded data removed]",
      "text/plain": [
       "<Figure size 432x288 with 1 Axes>"
      ]
     },
     "metadata": {
      "needs_background": "light"
     },
     "output_type": "display_data"
    }
   ],
   "source": [
    "bws = data_iperf('13/exp13a',crsid)\n",
    "ys, yerr = graph_error(bws)\n",
    "\n",
    "plt.errorbar(np.arange(0.5,10.0,1.0),ys,yerr=yerr,linestyle=\"none\")\n",
    "ys.append(ys[-1])\n",
    "plt.step(np.arange(0,11,1), ys ,where=\"post\")\n",
    "\n",
    "plt.xlabel(\"Time (s)\")\n",
    "plt.ylabel(\"Bandwidth (Gbit/s)\")\n",
    "plt.show()"
   ]
  },
  {
   "cell_type": "markdown",
   "metadata": {},
   "source": [
    "### 13b"
   ]
  },
  {
   "cell_type": "markdown",
   "metadata": {},
   "source": [
    "Run one way iperf, from A to B, 3 sec long, with varying window size. Plot the bandwidth for each window size."
   ]
  },
  {
   "cell_type": "markdown",
   "metadata": {},
   "source": [
    "<font color='red'>TODO:</font> Fill in `server_cmd`, the command to start the server. Fill in `client_cmd`, the command to connect to the server, 3 seconds long, format Mbits/sec, for every window size in KB."
   ]
  },
  {
   "cell_type": "code",
   "execution_count": 3,
   "metadata": {},
   "outputs": [],
   "source": [
    "server_cmd = f'iperf3 -s -B {machB_ip}'\n",
    "ssh = ssh_connect(machB_ip)\n",
    "start_new_thread(ssh_cmd,(server_cmd,ssh))\n",
    "\n",
    "windows = [1,50,100,150,200,250]\n",
    "for w in windows:\n",
    "    for i in range(5):\n",
    "        sleep(1)\n",
    "        client_cmd = f'iperf3 -c {machB_ip} -i 1 -t 3 -f m -w {w}KB'\n",
    "        local_cmd(client_cmd +' | grep -e \"bits/sec\" > /home/l51/'+crsid+'/P51aLab1/13/exp13b_'+str(w)+'_'+str(i))\n",
    "    \n",
    "ssh_cmd('sudo pkill iperf3', ssh)\n",
    "ssh.close()"
   ]
  },
  {
   "cell_type": "markdown",
   "metadata": {},
   "source": [
    "<font color='red'>TODO:</font> Plot a graph of bandwidth against window size, with error bars."
   ]
  },
  {
   "cell_type": "code",
   "execution_count": 4,
   "metadata": {
    "scrolled": true
   },
   "outputs": [
    {
     "data": {
      "image/png": "[encoded data removed]",
      "text/plain": [
       "<Figure size 432x288 with 1 Axes>"
      ]
     },
     "metadata": {
      "needs_background": "light"
     },
     "output_type": "display_data"
    }
   ],
   "source": [
    "bws = data13b(windows,crsid)\n",
    "ys,yerr = graph_error(bws)\n",
    "\n",
    "\n",
    "plt.errorbar(windows,ys,yerr=yerr)\n",
    "plt.ylabel(\"Bandwidth (Gbits/sec)\")\n",
    "plt.xlabel(\"Window size (KB)\")\n",
    "plt.show()"
   ]
  },
  {
   "cell_type": "markdown",
   "metadata": {},
   "source": [
    "### 13c"
   ]
  },
  {
   "cell_type": "markdown",
   "metadata": {},
   "source": [
    "Run one way iperf using UDP, from A to B, 3 sec long, with varying bandwidth. Plot the percentage of packets dropped for each bandwidth."
   ]
  },
  {
   "cell_type": "markdown",
   "metadata": {},
   "source": [
    "<font color='red'>TODO:</font> Fill in `server_cmd`, the command to start the UDP server. Fill in `client_cmd`, the command to connect to the UDP server, 3 seconds long, format Mbits/sec, for every bandwidth in Mbits/sec."
   ]
  },
  {
   "cell_type": "code",
   "execution_count": 5,
   "metadata": {},
   "outputs": [],
   "source": [
    "server_cmd = f'iperf3 -s -B {machB_ip}'\n",
    "ssh = ssh_connect(machB_ip)\n",
    "start_new_thread(ssh_cmd,(server_cmd,ssh))\n",
    "\n",
    "bands = [10,100,1000,5000,9000]\n",
    "for b in bands:\n",
    "    for i in range(5):\n",
    "        sleep(1)\n",
    "        client_cmd = f'iperf3 -c {machB_ip} -i 1 -t 3 -f m -b {b}M -u'\n",
    "        local_cmd(client_cmd+' | grep -e \"%.*receiver\" > /home/l51/'+crsid+'/P51aLab1/13/exp13c_'+str(b)+'_'+str(i))\n",
    "    \n",
    "ssh_cmd('sudo pkill iperf3', ssh)\n",
    "ssh.close()"
   ]
  },
  {
   "cell_type": "markdown",
   "metadata": {},
   "source": [
    "<font color='red'>TODO:</font> Plot a graph of percentage of packets dropped against bandwidth, with error bars."
   ]
  },
  {
   "cell_type": "code",
   "execution_count": 6,
   "metadata": {},
   "outputs": [
    {
     "data": {
      "image/png": "[encoded data removed]",
      "text/plain": [
       "<Figure size 432x288 with 1 Axes>"
      ]
     },
     "metadata": {
      "needs_background": "light"
     },
     "output_type": "display_data"
    }
   ],
   "source": [
    "bans,pcs = data_band('13/exp13c',crsid,bands)\n",
    "ys, yerr = graph_error(pcs)\n",
    "\n",
    "plt.errorbar(bands,ys,yerr=yerr)\n",
    "plt.ylabel(\"Drop percentage (%)\")\n",
    "plt.xlabel(\"Bandwidth (Mbits/sec)\")\n",
    "plt.show()"
   ]
  },
  {
   "cell_type": "code",
   "execution_count": null,
   "metadata": {},
   "outputs": [],
   "source": []
  }
 ],
 "metadata": {
  "kernelspec": {
   "display_name": "Python 3",
   "language": "python",
   "name": "python3"
  },
  "language_info": {
   "codemirror_mode": {
    "name": "ipython",
    "version": 3
   },
   "file_extension": ".py",
   "mimetype": "text/x-python",
   "name": "python",
   "nbconvert_exporter": "python",
   "pygments_lexer": "ipython3",
   "version": "3.9.2"
  }
 },
 "nbformat": 4,
 "nbformat_minor": 2
}
