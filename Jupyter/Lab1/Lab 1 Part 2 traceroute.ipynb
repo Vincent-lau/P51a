{
 "cells": [
  {
   "cell_type": "markdown",
   "metadata": {},
   "source": [
    "This is the second part of the first lab.\n",
    "\n",
    "The setup remains the same as in the first part, and the following is included only in case this part is not conducted immendately after the first part.\n",
    "\n",
    "###### Setup:  \n",
    "-- `ssh-add` (Machine A) #if it fails, run first: eval `ssh-agent -s`  \n",
    "-- `mkdir /home/l51/<crsid>` (Machine A, replace <crsid> with your crsid) \n",
    "  \n",
    "-- `cd /home/l51/<crsid>` Machine A)  \n",
    "-- `git clone http://github.com/cucl-srg/P51a` (Machine A)  \n",
    "-- `/home/l51/P51a/setup/mkdir1.sh <crsid>`. (Machine A)   \n"
   ]
  },
  {
   "cell_type": "code",
   "execution_count": 2,
   "metadata": {},
   "outputs": [],
   "source": [
    "crsid='sl955' #your crsid\n",
    "%run /home/l51/$crsid/P51a/Jupyter/useful/useful.py\n",
    "%run /home/l51/$crsid/P51a/Jupyter/useful/useful1.py\n",
    "%matplotlib inline\n",
    "machA_ip = '128.232.82.184'\n",
    "machB_ip = '128.232.82.185' #  XXX REPLACE THIS WITH THE IP of the host 128.232.XXX.YYY"
   ]
  },
  {
   "cell_type": "markdown",
   "metadata": {},
   "source": [
    "# 2. traceroute"
   ]
  },
  {
   "cell_type": "markdown",
   "metadata": {},
   "source": [
    "ping only measures the round-trip time between the source and destination. If the destination is unreachable, it could be due to a failure of any node or link on the route taken.   \n",
    "    \n",
    "traceroute reports the route that a packet takes across an IP network, and measures round-trip times of every hop. If the connection is lost along a certain hop, then we can isolate the failure between two nodes.  \n",
    "  \n",
    "###### Usage:    \n",
    "  \n",
    "`traceroute <address> [Optional: -I]`  \n",
    "-I = use ICMP Echo Request packets. If unspecified, use UDP packets. -I may be needed if UDP packets are blocked by a node.    "
   ]
  },
  {
   "cell_type": "markdown",
   "metadata": {},
   "source": [
    "### Experiment 6"
   ]
  },
  {
   "cell_type": "markdown",
   "metadata": {},
   "source": [
    "<font color='red'>TODO:</font> Traceroute from machine A to B, via UDP and via ICMP"
   ]
  },
  {
   "cell_type": "code",
   "execution_count": 6,
   "metadata": {},
   "outputs": [
    {
     "name": "stdout",
     "output_type": "stream",
     "text": [
      "sudo: unable to resolve host l51-pi041-nf.cl.cam.ac.uk: Name or service not known\r",
      "\r\n",
      "traceroute to 128.232.82.184 (128.232.82.184), 30 hops max, 60 byte packets\r\n",
      " 1  l51-pi041.nf.cl.cam.ac.uk (128.232.82.184)  0.070 ms  0.018 ms  0.020 ms\r\n"
     ]
    }
   ],
   "source": [
    "!sudo traceroute -I $machA_ip #Complete here"
   ]
  },
  {
   "cell_type": "code",
   "execution_count": 7,
   "metadata": {},
   "outputs": [
    {
     "name": "stdout",
     "output_type": "stream",
     "text": [
      "traceroute to 128.232.82.184 (128.232.82.184), 30 hops max, 60 byte packets\r\n",
      " 1  l51-pi041.nf.cl.cam.ac.uk (128.232.82.184)  0.069 ms  0.018 ms  0.018 ms\r\n"
     ]
    }
   ],
   "source": [
    "!traceroute $machA_ip #Complete here"
   ]
  },
  {
   "cell_type": "markdown",
   "metadata": {},
   "source": [
    "### Experiment 7\n",
    "Traceroute from Machine A to different addresses."
   ]
  },
  {
   "cell_type": "markdown",
   "metadata": {},
   "source": [
    "<font color='red'>TODO:</font> Traceroute to 8.8.8.8."
   ]
  },
  {
   "cell_type": "code",
   "execution_count": 8,
   "metadata": {},
   "outputs": [
    {
     "name": "stdout",
     "output_type": "stream",
     "text": [
      "traceroute to 8.8.8.8 (8.8.8.8), 30 hops max, 60 byte packets\n",
      " 1  vlan296.gatwick.net.cl.cam.ac.uk (128.232.82.2)  0.963 ms  1.128 ms  1.294 ms\n",
      " 2  cl-wgb.d-mw.net.cam.ac.uk (193.60.89.5)  0.252 ms  0.297 ms  0.288 ms\n",
      " 3  d-mw.c-mi.net.cam.ac.uk (131.111.6.153)  0.562 ms  0.686 ms  0.830 ms\n",
      " 4  c-mi.b-jc.net.cam.ac.uk (131.111.6.182)  0.295 ms  0.304 ms  0.486 ms\n",
      " 5  ips-out.b-jc.net.cam.ac.uk (131.111.7.217)  0.491 ms  0.493 ms  0.492 ms\n",
      " 6  ae0.lowdss-ban1.ja.net (146.97.41.37)  2.521 ms  2.503 ms  2.488 ms\n",
      " 7  ae26.lowdss-sbr1.ja.net (146.97.35.245)  2.759 ms  2.760 ms  2.787 ms\n",
      " 8  ae31.londtw-sbr2.ja.net (146.97.33.30)  5.891 ms  5.877 ms  5.891 ms\n",
      " 9  ae28.londtt-sbr1.ja.net (146.97.33.61)  5.871 ms  5.871 ms  5.822 ms\n",
      "10  72.14.205.74 (72.14.205.74)  5.934 ms  5.926 ms  5.917 ms\n",
      "11  108.170.246.129 (108.170.246.129)  5.895 ms  5.927 ms  5.908 ms\n",
      "12  216.239.63.219 (216.239.63.219)  6.891 ms  6.908 ms  6.890 ms\n",
      "13  dns.google (8.8.8.8)  5.788 ms  5.790 ms  5.760 ms\n"
     ]
    }
   ],
   "source": [
    "#Complete here\n",
    "!traceroute -I 8.8.8.8"
   ]
  },
  {
   "cell_type": "markdown",
   "metadata": {},
   "source": [
    "<font color='red'>TODO:</font> Traceroute to munnari.oz.au."
   ]
  },
  {
   "cell_type": "code",
   "execution_count": 9,
   "metadata": {
    "scrolled": true
   },
   "outputs": [
    {
     "name": "stdout",
     "output_type": "stream",
     "text": [
      "traceroute to munnari.oz.au (202.29.151.3), 30 hops max, 60 byte packets\n",
      " 1  vlan296.gatwick.net.cl.cam.ac.uk (128.232.82.2)  1.595 ms  1.348 ms  1.664 ms\n",
      " 2  cl-wgb.d-mw.net.cam.ac.uk (193.60.89.5)  0.148 ms  0.297 ms  0.269 ms\n",
      " 3  d-mw.c-ce.net.cam.ac.uk (131.111.6.53)  0.603 ms  0.748 ms  0.819 ms\n",
      " 4  c-ce.b-jc.net.cam.ac.uk (131.111.6.82)  0.287 ms  0.437 ms  0.407 ms\n",
      " 5  ips-out.b-jc.net.cam.ac.uk (131.111.7.217)  0.741 ms  0.901 ms *\n",
      " 6  ae0.lowdss-ban1.ja.net (146.97.41.37)  3.957 ms  2.750 ms *\n",
      " 7  ae26.lowdss-sbr1.ja.net (146.97.35.245)  3.025 ms  3.582 ms  2.885 ms\n",
      " 8  ae30.erdiss-sbr2.ja.net (146.97.33.25)  5.500 ms  4.674 ms  5.365 ms\n",
      " 9  ae31.londpg-sbr2.ja.net (146.97.33.21)  41.189 ms  41.094 ms  15.742 ms\n",
      "10  janet-bckp.mx1.lon2.uk.geant.net (62.40.125.57)  14.758 ms  40.644 ms  9.009 ms\n",
      "11  ae2.mx1.lon.uk.geant.net (62.40.98.64)  9.774 ms  9.726 ms  9.682 ms\n",
      "12  202.179.249.33 (202.179.249.33)  177.132 ms  206.009 ms  177.042 ms\n",
      "13  202.179.249.66 (202.179.249.66)  202.107 ms  202.165 ms  202.204 ms\n",
      "14  pyt-to-02-bdr-pyt-link-1.uni.net.th (202.29.12.10)  222.714 ms  202.653 ms  202.797 ms\n",
      "15  202.28.218.5 (202.28.218.5)  210.871 ms  203.247 ms  203.224 ms\n",
      "16  202.28.221.22 (202.28.221.22)  204.964 ms  203.560 ms  203.516 ms\n",
      "17  122.154.61.129 (122.154.61.129)  207.743 ms  207.620 ms  206.916 ms\n",
      "18  122.154.61.129 (122.154.61.129)  206.848 ms  207.900 ms  210.741 ms\n",
      "19  122.154.61.129 (122.154.61.129)  208.045 ms  207.705 ms  207.594 ms\n",
      "20  202.12.73.1 (202.12.73.1)  204.952 ms  204.844 ms  205.209 ms\n",
      "21  202.29.149.70 (202.29.149.70)  206.624 ms  205.950 ms  205.843 ms\n",
      "22  munnari.OZ.AU (202.29.151.3)  207.845 ms  210.814 ms  209.172 ms\n"
     ]
    }
   ],
   "source": [
    "#Complete here\n",
    "!traceroute munnari.oz.au"
   ]
  },
  {
   "cell_type": "markdown",
   "metadata": {},
   "source": [
    "<font color='red'>TODO:</font> Traceroute to gateway address."
   ]
  },
  {
   "cell_type": "code",
   "execution_count": 10,
   "metadata": {
    "scrolled": true
   },
   "outputs": [
    {
     "name": "stdout",
     "output_type": "stream",
     "text": [
      "default via 128.232.82.1 dev eth0 proto dhcp src 128.232.82.184 metric 202 \r\n"
     ]
    }
   ],
   "source": [
    "!ip route | grep default #This command will provide you the gateway address"
   ]
  },
  {
   "cell_type": "code",
   "execution_count": 13,
   "metadata": {
    "scrolled": true
   },
   "outputs": [
    {
     "name": "stdout",
     "output_type": "stream",
     "text": [
      "traceroute to 128.232.82.1 (128.232.82.1), 30 hops max, 60 byte packets\r\n",
      " 1  gw-vlan296.net.cl.cam.ac.uk (128.232.82.1)  2.164 ms  2.300 ms  2.484 ms\r\n"
     ]
    }
   ],
   "source": [
    "#Complete here\n",
    "!traceroute -I 128.232.82.1"
   ]
  },
  {
   "cell_type": "markdown",
   "metadata": {},
   "source": [
    "### Experiment 8\n",
    "Traceroute from a non-lab machine to different addresses."
   ]
  },
  {
   "cell_type": "markdown",
   "metadata": {},
   "source": [
    "<font color='red'>TODO:</font> Traceroute to 8.8.8.8."
   ]
  },
  {
   "cell_type": "code",
   "execution_count": null,
   "metadata": {},
   "outputs": [],
   "source": [
    "traceroute to 8.8.8.8 (8.8.8.8), 30 hops max, 60 byte packets\n",
    " 1  _gateway (192.168.40.62)  0.478 ms  0.694 ms  0.682 ms\n",
    " 2  * * *\n",
    " 3  d-mw.c-mi.net.cam.ac.uk (131.111.6.153)  1.110 ms d-mw.c-ce.net.cam.ac.uk (131.111.6.53)  1.346 ms d-mw.c-mi.net.cam.ac.uk (131.111.6.153)  1.336 ms\n",
    " 4  c-ce.b-jc.net.cam.ac.uk (131.111.6.82)  1.098 ms c-mi.b-jc.net.cam.ac.uk (131.111.6.182)  0.843 ms c-ce.b-jc.net.cam.ac.uk (131.111.6.82)  1.323 ms\n",
    " 5  ips-out.b-jc.net.cam.ac.uk (131.111.7.217)  1.295 ms  1.285 ms  1.275 ms\n",
    " 6  ae0.lowdss-ban1.ja.net (146.97.41.37)  4.244 ms  3.791 ms  3.489 ms\n",
    " 7  ae26.lowdss-sbr1.ja.net (146.97.35.245)  3.970 ms  3.717 ms  3.955 ms\n",
    " 8  ae31.londtw-sbr2.ja.net (146.97.33.30)  6.901 ms  6.895 ms  6.888 ms\n",
    " 9  ae28.londtt-sbr1.ja.net (146.97.33.61)  6.881 ms  6.875 ms  6.868 ms\n",
    "10  72.14.205.74 (72.14.205.74)  6.614 ms  6.855 ms  6.531 ms\n",
    "11  108.170.246.129 (108.170.246.129)  6.408 ms 74.125.242.65 (74.125.242.65)  7.091 ms 74.125.242.97 (74.125.242.97)  8.162 ms\n",
    "12  142.251.54.35 (142.251.54.35)  6.394 ms 142.251.52.151 (142.251.52.151)  9.034 ms 172.253.66.101 (172.253.66.101)  8.807 ms\n",
    "13  dns.google (8.8.8.8)  8.758 ms  6.851 ms  7.079 ms"
   ]
  },
  {
   "cell_type": "markdown",
   "metadata": {},
   "source": [
    "<font color='red'>TODO:</font> Traceroute to munnari.oz.au."
   ]
  },
  {
   "cell_type": "code",
   "execution_count": null,
   "metadata": {},
   "outputs": [],
   "source": [
    "traceroute to munnari.oz.au (202.29.151.3), 30 hops max, 60 byte packets\n",
    " 1  _gateway (192.168.40.62)  0.735 ms  0.718 ms  0.949 ms\n",
    " 2  gw-115.route-nwest.net.cam.ac.uk (193.60.94.13)  0.817 ms  0.810 ms  1.046 ms\n",
    " 3  d-mw.c-hi.net.cam.ac.uk (131.111.7.53)  1.531 ms d-mw.c-mi.net.cam.ac.uk (131.111.6.153)  1.277 ms d-mw.c-hi.net.cam.ac.uk (131.111.7.53)  1.518 ms\n",
    " 4  c-mi.b-jc.net.cam.ac.uk (131.111.6.182)  0.900 ms c-hi.b-jc.net.cam.ac.uk (131.111.7.82)  1.136 ms c-mi.b-jc.net.cam.ac.uk (131.111.6.182)  0.885 ms\n",
    " 5  ips-out.b-jc.net.cam.ac.uk (131.111.7.217)  1.733 ms  1.483 ms  1.477 ms\n",
    " 6  ae0.lowdss-ban1.ja.net (146.97.41.37)  3.616 ms  3.276 ms  3.263 ms\n",
    " 7  ae26.lowdss-sbr1.ja.net (146.97.35.245)  5.079 ms  5.066 ms  5.303 ms\n",
    " 8  ae30.erdiss-sbr2.ja.net (146.97.33.25)  6.906 ms  6.899 ms  7.130 ms\n",
    " 9  ae31.londpg-sbr2.ja.net (146.97.33.21)  9.796 ms  9.097 ms  9.091 ms\n",
    "10  janet-bckp.mx1.lon2.uk.geant.net (62.40.125.57)  10.266 ms  9.771 ms  11.723 ms\n",
    "11  ae2.mx1.lon.uk.geant.net (62.40.98.64)  11.471 ms  10.975 ms  10.955 ms\n",
    "12  202.179.249.33 (202.179.249.33)  179.136 ms  178.590 ms  178.577 ms\n",
    "13  202.179.249.66 (202.179.249.66)  204.728 ms  202.651 ms  202.999 ms\n",
    "14  pyt-to-02-bdr-pyt-link-1.uni.net.th (202.29.12.10)  202.682 ms  203.107 ms  202.651 ms\n",
    "15  202.28.218.5 (202.28.218.5)  203.755 ms  202.944 ms  203.733 ms\n",
    "16  202.28.221.22 (202.28.221.22)  210.613 ms  211.835 ms  210.592 ms\n",
    "17  122.154.61.129 (122.154.61.129)  213.203 ms  208.630 ms  210.060 ms\n",
    "18  122.154.61.129 (122.154.61.129)  208.572 ms  210.279 ms  208.312 ms\n",
    "19  122.154.61.129 (122.154.61.129)  209.654 ms  207.284 ms  210.495 ms\n",
    "20  202.12.73.1 (202.12.73.1)  207.874 ms  207.378 ms  207.614 ms\n",
    "21  coe-gw.psu.ac.th (202.29.149.70)  204.748 ms  207.356 ms  207.103 ms\n",
    "22  munnari.OZ.AU (202.29.151.3)  207.484 ms  208.993 ms  208.730 ms"
   ]
  },
  {
   "cell_type": "markdown",
   "metadata": {},
   "source": [
    "<font color='red'>TODO:</font> Traceroute to gateway address identified in experiment 7."
   ]
  },
  {
   "cell_type": "code",
   "execution_count": null,
   "metadata": {},
   "outputs": [],
   "source": [
    "#Paste here\n",
    "traceroute to 128.232.82.1 (128.232.82.1), 30 hops max, 60 byte packets\n",
    " 1  _gateway (192.168.40.62)  0.250 ms  0.479 ms  0.477 ms\n",
    " 2  gw-115.route-nwest.net.cam.ac.uk (193.60.94.13)  0.551 ms  0.548 ms  0.790 ms\n",
    " 3  gw-vlan296.net.cl.cam.ac.uk (128.232.82.1)  11.415 ms  11.659 ms  11.657 ms"
   ]
  }
 ],
 "metadata": {
  "kernelspec": {
   "display_name": "Python 3",
   "language": "python",
   "name": "python3"
  },
  "language_info": {
   "codemirror_mode": {
    "name": "ipython",
    "version": 3
   },
   "file_extension": ".py",
   "mimetype": "text/x-python",
   "name": "python",
   "nbconvert_exporter": "python",
   "pygments_lexer": "ipython3",
   "version": "3.9.2"
  }
 },
 "nbformat": 4,
 "nbformat_minor": 2
}
